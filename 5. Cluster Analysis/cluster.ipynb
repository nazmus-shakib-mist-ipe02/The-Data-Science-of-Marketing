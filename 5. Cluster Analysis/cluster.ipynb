{
 "cells": [
  {
   "cell_type": "code",
   "execution_count": 1,
   "metadata": {},
   "outputs": [],
   "source": [
    "# Load in our packages\n",
    "\n",
    "import pandas as pd\n",
    "import numpy as np\n",
    "import matplotlib.pyplot as plt\n",
    "from matplotlib import style\n",
    "style.use(\"ggplot\")\n",
    "\n",
    "from sklearn.cluster import KMeans\n",
    "\n",
    "%matplotlib inline"
   ]
  },
  {
   "cell_type": "code",
   "execution_count": 2,
   "metadata": {},
   "outputs": [],
   "source": [
    "# Connect to our case study data set\n",
    "\n",
    "myClusterData = pd.read_csv(\"cluster-py.csv\")"
   ]
  },
  {
   "cell_type": "code",
   "execution_count": 6,
   "metadata": {},
   "outputs": [
    {
     "name": "stdout",
     "output_type": "stream",
     "text": [
      "                               Unnamed: 0  b1  b2  b3  bp  cta  age  sex\n",
      "0                 nisl@adipiscingelit.org   2   1  16  12    9   48    1\n",
      "1                  dui.Fusce.diam@non.edu   1   0  25   8    6   41    2\n",
      "2    nisl.Maecenas@vitaeorciPhasellus.org   2   2  23  11    4   50    1\n",
      "3                    justo.nec@Aenean.edu   3   1   4  12   11   34    2\n",
      "4  neque.Morbi.quis@AeneanmassaInteger.ca   2   2  29  10    2   59    1\n",
      "<class 'pandas.core.frame.DataFrame'>\n",
      "RangeIndex: 300 entries, 0 to 299\n",
      "Data columns (total 8 columns):\n",
      "Unnamed: 0    300 non-null object\n",
      "b1            300 non-null int64\n",
      "b2            300 non-null int64\n",
      "b3            300 non-null int64\n",
      "bp            300 non-null int64\n",
      "cta           300 non-null int64\n",
      "age           300 non-null int64\n",
      "sex           300 non-null int64\n",
      "dtypes: int64(7), object(1)\n",
      "memory usage: 18.8+ KB\n"
     ]
    }
   ],
   "source": [
    "# Have a look at our data\n",
    "print(myClusterData.head())\n",
    "\n",
    "myClusterData.info()"
   ]
  },
  {
   "cell_type": "code",
   "execution_count": 7,
   "metadata": {},
   "outputs": [
    {
     "data": {
      "image/png": "[encoded data removed]",
      "text/plain": [
       "<Figure size 432x288 with 1 Axes>"
      ]
     },
     "metadata": {
      "needs_background": "light"
     },
     "output_type": "display_data"
    }
   ],
   "source": [
    "# Plot our b1 & b3 data\n",
    "plt.scatter(myClusterData.b1, myClusterData.b3)\n",
    "plt.show()"
   ]
  },
  {
   "cell_type": "code",
   "execution_count": 8,
   "metadata": {},
   "outputs": [],
   "source": [
    "# Assign values to x & y \n",
    "\n",
    "x = [16, 25, 18, 22, 5, 10, 21, 4, 30, 25]  # b3\n",
    "y = [11, 7, 9, 16, 16, 15, 16, 7, 17, 5]     # cta"
   ]
  },
  {
   "cell_type": "code",
   "execution_count": 10,
   "metadata": {},
   "outputs": [
    {
     "data": {
      "image/png": "[encoded data removed]",
      "text/plain": [
       "<Figure size 432x288 with 1 Axes>"
      ]
     },
     "metadata": {
      "needs_background": "light"
     },
     "output_type": "display_data"
    }
   ],
   "source": [
    "# Plot our x & y values\n",
    "plt.scatter(x,y)\n",
    "plt.show()"
   ]
  },
  {
   "cell_type": "code",
   "execution_count": 11,
   "metadata": {},
   "outputs": [],
   "source": [
    "# Pivot our data to work as an array \n",
    "X = np.array([[16, 11],\n",
    "              [25, 7],\n",
    "              [18, 9],\n",
    "              [22, 16],\n",
    "              [5, 16],\n",
    "              [10, 15],\n",
    "              [21, 16],\n",
    "              [4, 7],\n",
    "              [30, 17],\n",
    "              [25, 5]])"
   ]
  },
  {
   "cell_type": "code",
   "execution_count": 14,
   "metadata": {},
   "outputs": [],
   "source": [
    "# Assign the value of n clusters / run the algorithm / assign centroids / label our group names \n",
    "myGroups= KMeans(n_clusters=3)\n",
    "myGroups.fit(X)\n",
    "centroids= myGroups.cluster_centers_\n",
    "labels=myGroups.labels_"
   ]
  },
  {
   "cell_type": "code",
   "execution_count": 16,
   "metadata": {},
   "outputs": [
    {
     "name": "stdout",
     "output_type": "stream",
     "text": [
      "10\n"
     ]
    },
    {
     "data": {
      "image/png": "[encoded data removed]",
      "text/plain": [
       "<Figure size 432x288 with 1 Axes>"
      ]
     },
     "metadata": {
      "needs_background": "light"
     },
     "output_type": "display_data"
    }
   ],
   "source": [
    "# Set up our color palette\n",
    "\n",
    "colors = [\"b.\",\"g.\",\"r.\",\"c.\",\"m.\"]\n",
    "\n",
    "# Plot each point\n",
    "\n",
    "for i in range(len(X)):\n",
    "    plt.plot(X[i][0], X[i][1], colors[labels[i]], markersize = 10)\n",
    "\n",
    "# Generate the view\n",
    "\n",
    "plt.scatter(centroids[:, 0],centroids[:, 1], marker = \"x\", s=150, linewidths = 5)\n",
    "plt.show()"
   ]
  },
  {
   "cell_type": "code",
   "execution_count": null,
   "metadata": {},
   "outputs": [],
   "source": []
  }
 ],
 "metadata": {
  "anaconda-cloud": {},
  "kernelspec": {
   "display_name": "Python 3",
   "language": "python",
   "name": "python3"
  },
  "language_info": {
   "codemirror_mode": {
    "name": "ipython",
    "version": 3
   },
   "file_extension": ".py",
   "mimetype": "text/x-python",
   "name": "python",
   "nbconvert_exporter": "python",
   "pygments_lexer": "ipython3",
   "version": "3.7.0"
  }
 },
 "nbformat": 4,
 "nbformat_minor": 1
}
